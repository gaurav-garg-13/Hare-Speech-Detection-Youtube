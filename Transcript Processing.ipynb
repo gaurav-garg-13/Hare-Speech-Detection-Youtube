{
 "cells": [
  {
   "cell_type": "code",
   "execution_count": 1,
   "id": "4f790f29-f72b-4cb9-885a-2394e40dcbe2",
   "metadata": {},
   "outputs": [
    {
     "name": "stderr",
     "output_type": "stream",
     "text": [
      "D:\\Gaurav Data Science\\Major Project\\venv_major\\lib\\site-packages\\tqdm\\auto.py:21: TqdmWarning: IProgress not found. Please update jupyter and ipywidgets. See https://ipywidgets.readthedocs.io/en/stable/user_install.html\n",
      "  from .autonotebook import tqdm as notebook_tqdm\n"
     ]
    }
   ],
   "source": [
    "from transformers import AutoTokenizer, AutoModelForSequenceClassification\n",
    "import torch\n",
    "import requests"
   ]
  },
  {
   "cell_type": "code",
   "execution_count": 2,
   "id": "7b50cf8b-a111-4588-a84b-2fabede88253",
   "metadata": {},
   "outputs": [
    {
     "name": "stderr",
     "output_type": "stream",
     "text": [
      "Downloading (…)okenizer_config.json: 100%|██████████████████████████████████████████| 39.0/39.0 [00:00<00:00, 9.72kB/s]\n",
      "D:\\Gaurav Data Science\\Major Project\\venv_major\\lib\\site-packages\\huggingface_hub\\file_download.py:133: UserWarning: `huggingface_hub` cache-system uses symlinks by default to efficiently store duplicated files but your machine does not support them in C:\\Users\\gargg\\.cache\\huggingface\\hub. Caching files will still work but in a degraded version that might require more space on your disk. This warning can be disabled by setting the `HF_HUB_DISABLE_SYMLINKS_WARNING` environment variable. For more details, see https://huggingface.co/docs/huggingface_hub/how-to-cache#limitations.\n",
      "To support symlinks on Windows, you either need to activate Developer Mode or to run Python as an administrator. In order to see activate developer mode, see this article: https://docs.microsoft.com/en-us/windows/apps/get-started/enable-your-device-for-development\n",
      "  warnings.warn(message)\n",
      "Downloading (…)lve/main/config.json: 100%|█████████████████████████████████████████████| 953/953 [00:00<00:00, 190kB/s]\n",
      "Downloading (…)solve/main/vocab.txt: 100%|██████████████████████████████████████████| 872k/872k [00:00<00:00, 1.06MB/s]\n",
      "Downloading (…)cial_tokens_map.json: 100%|████████████████████████████████████████████| 112/112 [00:00<00:00, 22.4kB/s]\n",
      "Downloading pytorch_model.bin: 100%|████████████████████████████████████████████████| 669M/669M [01:53<00:00, 5.91MB/s]\n"
     ]
    }
   ],
   "source": [
    "tokenizer = AutoTokenizer.from_pretrained('nlptown/bert-base-multilingual-uncased-sentiment')\n",
    "\n",
    "model = AutoModelForSequenceClassification.from_pretrained('nlptown/bert-base-multilingual-uncased-sentiment')"
   ]
  },
  {
   "cell_type": "code",
   "execution_count": 26,
   "id": "a3ab3a1b-216b-48b5-92c5-26b2e08f9089",
   "metadata": {},
   "outputs": [],
   "source": [
    "s = \"We'll be delving into the dark side of the fashion industry and shining a light on its negative impact on the environment and society. You see, the fashion industry, as glamorous as it may seem on the surface, has a dark underbelly. It's an industry that thrives on unsustainable practices, exploitation, and a culture of excessive consumption. Behind the scenes, we find polluted rivers, mountains of textile waste, and sweatshops where workers toil in deplorable conditions for minimal wages. It's a vicious cycle of fast fashion that prioritizes profit over people and the planet. The incessant need for new trends and constant purchases fuels this destructive machine. It's time we confront the reality and question our own role in perpetuating this harmful system. By becoming conscious consumers, supporting ethical and sustainable brands, and advocating for change, we can work towards a fashion industry that respects human rights, values the environment, and promotes a more equitable future. Together, we have the power to reshape the narrative and demand a fashion industry that truly reflects our values\""
   ]
  },
  {
   "cell_type": "code",
   "execution_count": 27,
   "id": "64d22904-74ed-4744-bbda-ecc318064068",
   "metadata": {},
   "outputs": [],
   "source": [
    "tokens = tokenizer.encode(s, return_tensors='pt')"
   ]
  },
  {
   "cell_type": "code",
   "execution_count": 28,
   "id": "985c56e9-21b3-4cdc-b560-e1878efd5d2b",
   "metadata": {},
   "outputs": [],
   "source": [
    "result = model(tokens)"
   ]
  },
  {
   "cell_type": "code",
   "execution_count": 29,
   "id": "f6f3841f-024e-4428-8e85-9e74889ce031",
   "metadata": {},
   "outputs": [
    {
     "data": {
      "text/plain": [
       "2"
      ]
     },
     "execution_count": 29,
     "metadata": {},
     "output_type": "execute_result"
    }
   ],
   "source": [
    "int(torch.argmax(result.logits))+1"
   ]
  },
  {
   "cell_type": "code",
   "execution_count": null,
   "id": "0ee3af01-6ff0-47da-a197-dc7e6ed45cef",
   "metadata": {},
   "outputs": [],
   "source": []
  }
 ],
 "metadata": {
  "kernelspec": {
   "display_name": "venv_major",
   "language": "python",
   "name": "venv_major"
  },
  "language_info": {
   "codemirror_mode": {
    "name": "ipython",
    "version": 3
   },
   "file_extension": ".py",
   "mimetype": "text/x-python",
   "name": "python",
   "nbconvert_exporter": "python",
   "pygments_lexer": "ipython3",
   "version": "3.9.13"
  }
 },
 "nbformat": 4,
 "nbformat_minor": 5
}
